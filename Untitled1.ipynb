{
  "nbformat": 4,
  "nbformat_minor": 0,
  "metadata": {
    "colab": {
      "provenance": [],
      "mount_file_id": "1L_RBKAmCYxPBmwmYhvAYPYLl2xMvdLW5",
      "authorship_tag": "ABX9TyOX8vyMoBszmDecATtFXi8B",
      "include_colab_link": true
    },
    "kernelspec": {
      "name": "python3",
      "display_name": "Python 3"
    },
    "language_info": {
      "name": "python"
    }
  },
  "cells": [
    {
      "cell_type": "markdown",
      "metadata": {
        "id": "view-in-github",
        "colab_type": "text"
      },
      "source": [
        "<a href=\"https://colab.research.google.com/github/lurufino/Rufino/blob/main/Untitled1.ipynb\" target=\"_parent\"><img src=\"https://colab.research.google.com/assets/colab-badge.svg\" alt=\"Open In Colab\"/></a>"
      ]
    },
    {
      "cell_type": "code",
      "execution_count": null,
      "metadata": {
        "id": "AsFOseYbpmQJ"
      },
      "outputs": [],
      "source": [
        "1 import json\n",
        "2 import os\n",
        "3 import requests\n",
        "4 from bs4 import Beautilfulsoup\n"
      ]
    },
    {
      "cell_type": "code",
      "source": [
        "Base_URL  = \"https://www.gov.br/planalto/pt-br/acompanhe-o-planalto/pronunciamentos\"\n",
        "DATA_DIR  = \"\""
      ],
      "metadata": {
        "id": "LSgTIflpx3t3"
      },
      "execution_count": null,
      "outputs": []
    }
  ]
}